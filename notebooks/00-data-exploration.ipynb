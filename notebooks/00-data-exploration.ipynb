{
 "cells": [
  {
   "cell_type": "code",
   "execution_count": 1,
   "metadata": {},
   "outputs": [],
   "source": [
    "# import pandas as pd\n",
    "# import glob, os\n",
    "# import matplotlib.pyplot as plt\n",
    "# import seaborn as sns\n",
    "# from random import randint\n",
    "# from src.config import Config\n",
    "# from os.path import join\n",
    "# from src import helper"
   ]
  },
  {
   "cell_type": "code",
   "execution_count": 2,
   "metadata": {},
   "outputs": [],
   "source": [
    "# %matplotlib inline\n",
    "# plt.style.use('ggplot')"
   ]
  },
  {
   "cell_type": "code",
   "execution_count": 3,
   "metadata": {},
   "outputs": [],
   "source": [
    "# original_data_path = join(Config.interim_data_path, 'original')"
   ]
  },
  {
   "cell_type": "code",
   "execution_count": 4,
   "metadata": {},
   "outputs": [],
   "source": [
    "# original_annotation_df = pd.read_csv(join(original_data_path, Config.default_annotation_file_name))\n",
    "# original_annotation_df.head()"
   ]
  },
  {
   "cell_type": "code",
   "execution_count": 5,
   "metadata": {},
   "outputs": [],
   "source": [
    "# sample = original_annotation_df[['height','weight','BMI']]\n",
    "# g = sns.PairGrid(sample);\n",
    "# g.map_diag(sns.kdeplot)\n",
    "# g.map_offdiag(sns.kdeplot, n_levels=6);"
   ]
  },
  {
   "cell_type": "code",
   "execution_count": 6,
   "metadata": {},
   "outputs": [],
   "source": [
    "# original_annotation_df.head()"
   ]
  },
  {
   "cell_type": "code",
   "execution_count": 7,
   "metadata": {},
   "outputs": [],
   "source": [
    "# sex = pd.Series(['Total' for _ in range(original_annotation_df.shape[0])], name='Type')\n",
    "# total_df = pd.concat([original_annotation_df['BMI'], sex], axis=1)\n",
    "# total_df.columns = ['bmi', 'Type']"
   ]
  },
  {
   "cell_type": "code",
   "execution_count": 8,
   "metadata": {},
   "outputs": [],
   "source": [
    "# male_df = original_annotation_df[original_annotation_df.image.str.contains(\"^m\")]\n",
    "# male_df.reset_index(inplace=True)\n",
    "# sex = pd.Series(['Male' for _ in range(male_df.shape[0])], name='Type')\n",
    "# male_df = pd.concat([male_df['BMI'], sex], axis=1, ignore_index=True)\n",
    "# male_df.columns = ['bmi', 'Type']"
   ]
  },
  {
   "cell_type": "code",
   "execution_count": 9,
   "metadata": {},
   "outputs": [],
   "source": [
    "# female_df = original_annotation_df[original_annotation_df.image.str.contains(\"^f\")]\n",
    "# sex = pd.Series(['Female' for _ in range(female_df.shape[0])], name='Type')\n",
    "# female_df = pd.concat([female_df['BMI'], sex], axis=1)\n",
    "# female_df.columns = ['bmi', 'Type']"
   ]
  },
  {
   "cell_type": "code",
   "execution_count": 10,
   "metadata": {},
   "outputs": [],
   "source": [
    "# combine_df = pd.concat([\n",
    "#     male_df, \n",
    "#     female_df,\n",
    "#     ])\n",
    "# fg = sns.displot(data=combine_df, x='bmi', hue='Type', kind='kde', fill=True, height=5, aspect=10/5)\n",
    "# plt.title('Distribution of BMI of female and male subjects', size=18)\n",
    "# plt.xlabel('BMI', size=14)\n",
    "# plt.ylabel('Frequency', size=14)\n",
    "# plt.savefig(os.path.join(Config.report_path, 'evaluate', 'current', 'original','original', 'vip_male_vs_female_dis.png'), transparent=True)"
   ]
  },
  {
   "cell_type": "code",
   "execution_count": 11,
   "metadata": {},
   "outputs": [],
   "source": [
    "# plt.figure(figsize=(15, 10))\n",
    "# sns.histplot(sample.height)\n",
    "# plt.title('Distribution of Height', size=18)\n",
    "# plt.xlabel('Height (m)', size=18)\n",
    "# plt.ylabel('Frequency', size=18)"
   ]
  },
  {
   "cell_type": "code",
   "execution_count": 12,
   "metadata": {},
   "outputs": [],
   "source": [
    "# plt.figure(figsize=(15, 10))\n",
    "# sns.histplot(sample.weight)\n",
    "# plt.title('Distribution of Weight', size=18)\n",
    "# plt.xlabel('Weight (kg)', size=18)\n",
    "# plt.ylabel('Frequency', size=18);"
   ]
  },
  {
   "cell_type": "code",
   "execution_count": 13,
   "metadata": {},
   "outputs": [],
   "source": [
    "# plt.figure(figsize=(15, 10))\n",
    "# sns.histplot(sample.BMI)\n",
    "# plt.title('Distribution of BMI', size=18)\n",
    "# plt.xlabel('BMI', size=18)\n",
    "# plt.ylabel('Frequency', size=18);\n",
    "# plt.savefig(os.path.join(Config.report_path, 'evaluate', 'current', 'original','original', 'total_dis.png'), transparent=True)"
   ]
  },
  {
   "cell_type": "code",
   "execution_count": 14,
   "metadata": {},
   "outputs": [],
   "source": [
    "# plt.figure(figsize=(20, 10))\n",
    "# sns.displot(original_annotation_df, x='BMI', kind='kde', fill=True, height=5, aspect=10/5)\n",
    "# plt.title('Distribution of BMI on the whole dataset', size=14)\n",
    "# plt.xlabel('BMI', size=14)\n",
    "# plt.ylabel('Frequency', size=14);\n",
    "# plt.savefig(os.path.join(Config.report_path, 'evaluate', 'current', 'original','original', 'vip_total_dis.png'), transparent=True)"
   ]
  },
  {
   "cell_type": "code",
   "execution_count": 15,
   "metadata": {},
   "outputs": [],
   "source": [
    "# all_files = glob.glob(join(original_data_path, 'data') + '/*')\n",
    "# all_jpgs = sorted([img for img in all_files if \".jpg\" in img or \".jpeg\" in img or \"JPG\" in img])\n",
    "# print(f\"Total {len(all_jpgs)} photos in original dataset.\")"
   ]
  },
  {
   "cell_type": "code",
   "execution_count": 16,
   "metadata": {},
   "outputs": [],
   "source": [
    "# id_path = [image for image in all_jpgs ]\n",
    "# image_df = pd.DataFrame(id_path, columns=['path'])\n",
    "# full_df = image_df.merge(original_annotation_df, left_index=True, right_index=True)\n",
    "# full_df.head()"
   ]
  },
  {
   "cell_type": "code",
   "execution_count": 17,
   "metadata": {},
   "outputs": [],
   "source": [
    "# samples = full_df.sample(n=8)\n",
    "# samples"
   ]
  },
  {
   "cell_type": "code",
   "execution_count": 18,
   "metadata": {},
   "outputs": [],
   "source": [
    "# output_path =os.path.join(Config.report_path, 'evaluate', 'current', 'original','original')"
   ]
  },
  {
   "cell_type": "code",
   "execution_count": 19,
   "metadata": {},
   "outputs": [],
   "source": [
    "# helper.plot_batch_images(dataframe=samples,starting_idx=0, columns=['BMI'], export_path=output_path, name=\"vip_sample_input\")"
   ]
  },
  {
   "cell_type": "code",
   "execution_count": 20,
   "metadata": {},
   "outputs": [],
   "source": [
    "# for df in helper.split_bmi_class_df(sample):\n",
    "#     print(df.BMI.describe())\n",
    "#     print('********************\\n')"
   ]
  },
  {
   "cell_type": "code",
   "execution_count": null,
   "metadata": {},
   "outputs": [],
   "source": []
  }
 ],
 "metadata": {
  "interpreter": {
   "hash": "dc0224e26ec025f3ddebe68852b2557678c74b9d8eddd46907224d8b87162505"
  },
  "kernelspec": {
   "display_name": "Python 3.8.10 64-bit ('base': conda)",
   "language": "python",
   "name": "python3"
  },
  "language_info": {
   "codemirror_mode": {
    "name": "ipython",
    "version": 3
   },
   "file_extension": ".py",
   "mimetype": "text/x-python",
   "name": "python",
   "nbconvert_exporter": "python",
   "pygments_lexer": "ipython3",
   "version": "3.8.10"
  },
  "orig_nbformat": 4
 },
 "nbformat": 4,
 "nbformat_minor": 2
}
