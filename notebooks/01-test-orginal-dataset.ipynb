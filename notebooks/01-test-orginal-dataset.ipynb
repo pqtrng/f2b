{
 "cells": [
  {
   "cell_type": "code",
   "execution_count": 1,
   "source": [
    "from src.config import Config\n",
    "import matplotlib.pyplot as plt\n",
    "import os\n",
    "from src import helper"
   ],
   "outputs": [],
   "metadata": {}
  },
  {
   "cell_type": "code",
   "execution_count": 2,
   "source": [
    "%matplotlib inline\n",
    "plt.style.use('ggplot')"
   ],
   "outputs": [],
   "metadata": {}
  },
  {
   "cell_type": "code",
   "execution_count": 3,
   "source": [
    "train_dataset = \"original\"\n",
    "test_dataset = \"original\"\n",
    "training_type = \"top\"\n",
    "output_network_type = \"current\""
   ],
   "outputs": [],
   "metadata": {}
  },
  {
   "cell_type": "code",
   "execution_count": 4,
   "source": [
    "original_test_datapath = os.path.join(Config.processed_data_path, str(test_dataset) + \"_valid\")"
   ],
   "outputs": [],
   "metadata": {}
  },
  {
   "cell_type": "code",
   "execution_count": 5,
   "source": [
    "export_path = os.path.join(Config.report_path, \"evaluate\", output_network_type, train_dataset, test_dataset)"
   ],
   "outputs": [],
   "metadata": {}
  },
  {
   "cell_type": "code",
   "execution_count": 6,
   "source": [
    "# model, _ = helper.get_trained_model(training_type=training_type, dataset=train_dataset, output_network_type=output_network_type)"
   ],
   "outputs": [],
   "metadata": {}
  },
  {
   "cell_type": "code",
   "execution_count": 7,
   "source": [
    "# result = helper.predict_bmi(model=model, test_data_path=original_test_datapath, export_path=export_path)"
   ],
   "outputs": [
    {
     "output_type": "stream",
     "name": "stdout",
     "text": [
      "Found 226 validated image filenames.\n",
      "15/15 [==============================] - 4s 64ms/step\n"
     ]
    }
   ],
   "metadata": {}
  },
  {
   "cell_type": "code",
   "execution_count": 10,
   "source": [
    "# samples = result.sample(n=Config.batch_size)\n",
    "# samples.to_csv(path_or_buf=os.path.join(export_path, \"samples.csv\"),index=False)"
   ],
   "outputs": [],
   "metadata": {}
  },
  {
   "cell_type": "code",
   "execution_count": null,
   "source": [
    "# helper.plot_batch_images(batch_size=Config.batch_size, dataframe=samples, starting_idx=0, columns=['bmi', 'predicted', 'error'], export_path=export_path)"
   ],
   "outputs": [],
   "metadata": {}
  }
 ],
 "metadata": {
  "orig_nbformat": 4,
  "language_info": {
   "name": "python"
  }
 },
 "nbformat": 4,
 "nbformat_minor": 2
}
