{
 "cells": [
  {
   "cell_type": "code",
   "execution_count": 1,
   "metadata": {},
   "outputs": [],
   "source": [
    "# from src.config import Config\n",
    "# import matplotlib.pyplot as plt\n",
    "# import os\n",
    "# import pandas as pd\n",
    "# from src import helper\n",
    "# import seaborn as sns"
   ]
  },
  {
   "cell_type": "code",
   "execution_count": 2,
   "metadata": {},
   "outputs": [],
   "source": [
    "# %matplotlib inline\n",
    "# plt.style.use('ggplot')"
   ]
  },
  {
   "cell_type": "code",
   "execution_count": 3,
   "metadata": {},
   "outputs": [],
   "source": [
    "# training_type = 'top'\n",
    "# output_network_type = 'current'\n",
    "# train_dataset = 'original'\n",
    "# test_dataset = 'original'\n",
    "# file_name = 'evaluate_result.csv'"
   ]
  },
  {
   "cell_type": "code",
   "execution_count": 4,
   "metadata": {},
   "outputs": [],
   "source": [
    "# data_path = os.path.join(Config.report_path, 'evaluate', output_network_type, train_dataset, test_dataset)"
   ]
  },
  {
   "cell_type": "code",
   "execution_count": 5,
   "metadata": {},
   "outputs": [],
   "source": [
    "# df = pd.read_csv(os.path.join(data_path, file_name))"
   ]
  },
  {
   "cell_type": "code",
   "execution_count": 6,
   "metadata": {},
   "outputs": [],
   "source": [
    "# df.error.describe()"
   ]
  },
  {
   "cell_type": "code",
   "execution_count": 7,
   "metadata": {},
   "outputs": [],
   "source": [
    "# df = df.drop(labels=['path'], axis=1)\n",
    "# df.head()"
   ]
  },
  {
   "cell_type": "code",
   "execution_count": 8,
   "metadata": {},
   "outputs": [],
   "source": [
    "# _ = sns.displot(df, x='error', kind='kde', fill=True)"
   ]
  },
  {
   "cell_type": "code",
   "execution_count": 9,
   "metadata": {},
   "outputs": [],
   "source": [
    "# target = pd.Series(['Ground Truth' for _ in range(df.shape[0])], name='Target')\n",
    "# gt_df = pd.concat([df['bmi'], target], axis=1)"
   ]
  },
  {
   "cell_type": "code",
   "execution_count": 10,
   "metadata": {},
   "outputs": [],
   "source": [
    "# target = pd.Series(['Predicted' for _ in range(df.shape[0])], name='Target')\n",
    "# pd_df = pd.concat([df['predicted'], target], axis=1)\n",
    "# pd_df.columns = ['bmi', 'Target']"
   ]
  },
  {
   "cell_type": "code",
   "execution_count": 11,
   "metadata": {},
   "outputs": [],
   "source": [
    "# pd_gt_df = pd.concat([pd_df, gt_df])"
   ]
  },
  {
   "cell_type": "code",
   "execution_count": 12,
   "metadata": {},
   "outputs": [],
   "source": [
    "# sns.displot(pd_gt_df, x=\"bmi\", hue=\"Target\", kind=\"kde\", fill=True,  height=5, aspect=10/5)\n",
    "# plt.xlabel('BMI', size=14)\n",
    "# plt.ylabel('Frequency', size=14)\n",
    "# plt.savefig(os.path.join(Config.report_path, 'evaluate', 'current', 'original','original', 'vip_predicted_vs_groundtruth_dis.png'), transparent=True)"
   ]
  },
  {
   "cell_type": "code",
   "execution_count": 13,
   "metadata": {},
   "outputs": [],
   "source": [
    "# uw_df, h_df, ow_df, ob_df = helper.split_bmi_class_df(df, verbose=True)"
   ]
  },
  {
   "cell_type": "code",
   "execution_count": 14,
   "metadata": {},
   "outputs": [],
   "source": [
    "# df = pd.DataFrame()\n",
    "# for cdf in [uw_df, h_df, ow_df, ob_df]:\n",
    "#     this_df = pd.DataFrame(cdf.error.describe()).T\n",
    "#     print(cdf.error.describe())"
   ]
  },
  {
   "cell_type": "code",
   "execution_count": 15,
   "metadata": {},
   "outputs": [],
   "source": [
    "# m_df = df[df.image_name.str.contains(\"^m\")]"
   ]
  },
  {
   "cell_type": "code",
   "execution_count": 16,
   "metadata": {},
   "outputs": [],
   "source": [
    "# f_df = df[df.image_name.str.contains(\"^f\")]"
   ]
  },
  {
   "cell_type": "code",
   "execution_count": null,
   "metadata": {},
   "outputs": [],
   "source": []
  }
 ],
 "metadata": {
  "interpreter": {
   "hash": "5bd6b6ff6f3d9d56ae167b9bca645f3322043500149d8a8708dbadfbf8c4eb9f"
  },
  "kernelspec": {
   "display_name": "Python 3.8.10 64-bit ('f2b': conda)",
   "name": "python3"
  },
  "language_info": {
   "codemirror_mode": {
    "name": "ipython",
    "version": 3
   },
   "file_extension": ".py",
   "mimetype": "text/x-python",
   "name": "python",
   "nbconvert_exporter": "python",
   "pygments_lexer": "ipython3",
   "version": "3.8.10"
  },
  "orig_nbformat": 4
 },
 "nbformat": 4,
 "nbformat_minor": 2
}
