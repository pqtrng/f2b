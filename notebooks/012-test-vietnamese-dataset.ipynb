{
 "cells": [
  {
   "cell_type": "code",
   "execution_count": 1,
   "metadata": {},
   "outputs": [],
   "source": [
    "# from src.config import Config\n",
    "# import matplotlib.pyplot as plt\n",
    "# import os\n",
    "# import pandas as pd\n",
    "# from src import helper\n",
    "# import seaborn as sns"
   ]
  },
  {
   "cell_type": "code",
   "execution_count": 2,
   "metadata": {},
   "outputs": [],
   "source": [
    "# %matplotlib inline\n",
    "# plt.style.use('ggplot')"
   ]
  },
  {
   "cell_type": "code",
   "execution_count": 3,
   "metadata": {},
   "outputs": [],
   "source": [
    "# train_dataset = \"original\"\n",
    "# test_dataset = \"vietnamese\"\n",
    "# training_type = \"top\"\n",
    "# output_network_type = \"current\"\n",
    "# file_name = ''"
   ]
  },
  {
   "cell_type": "code",
   "execution_count": 4,
   "metadata": {},
   "outputs": [],
   "source": [
    "# export_path = os.path.join(Config.report_path, \"evaluate\", output_network_type, train_dataset, test_dataset)"
   ]
  },
  {
   "cell_type": "code",
   "execution_count": 4,
   "metadata": {},
   "outputs": [],
   "source": [
    "# vietnamese_test_datapath = os.path.join(Config.processed_data_path, str(test_dataset) + \"_test\")\n",
    "# vietnamese_test_datapath_sample = os.path.join(vietnamese_test_datapath, \"18 - VT.Hieu\")\n",
    "# vietnamese_test_datapath_sample_df = pd.read_csv(os.path.join(vietnamese_test_datapath_sample, 'annotation.csv'))\n",
    "# helper.plot_batch_images(dataframe=vietnamese_test_datapath_sample_df, starting_idx=0, columns=['bmi'], export_path=export_path, name=\"sample_input_vietnamese\")"
   ]
  },
  {
   "cell_type": "code",
   "execution_count": null,
   "metadata": {},
   "outputs": [],
   "source": []
  }
 ],
 "metadata": {
  "interpreter": {
   "hash": "5bd6b6ff6f3d9d56ae167b9bca645f3322043500149d8a8708dbadfbf8c4eb9f"
  },
  "kernelspec": {
   "display_name": "Python 3.8.10 64-bit ('f2b': conda)",
   "name": "python3"
  },
  "language_info": {
   "codemirror_mode": {
    "name": "ipython",
    "version": 3
   },
   "file_extension": ".py",
   "mimetype": "text/x-python",
   "name": "python",
   "nbconvert_exporter": "python",
   "pygments_lexer": "ipython3",
   "version": "3.8.10"
  },
  "orig_nbformat": 4
 },
 "nbformat": 4,
 "nbformat_minor": 2
}
