{
 "cells": [
  {
   "cell_type": "code",
   "execution_count": 1,
   "source": [
    "import matplotlib.pyplot as plt\n",
    "from src.config import Config\n",
    "from src import helper\n",
    "import os\n",
    "import pandas as pd"
   ],
   "outputs": [],
   "metadata": {}
  },
  {
   "cell_type": "code",
   "execution_count": 2,
   "source": [
    "%matplotlib inline\n",
    "plt.style.use('ggplot')"
   ],
   "outputs": [],
   "metadata": {}
  },
  {
   "cell_type": "code",
   "execution_count": 3,
   "source": [
    "vietnamese_raw_datapath = os.path.join(Config.external_data_path, \"CSDL\", \"Images\")\n",
    "vietnamese_data_subfolders = helper.get_subfolder_name(dir_name=vietnamese_raw_datapath, allow_many=True)"
   ],
   "outputs": [],
   "metadata": {}
  },
  {
   "cell_type": "code",
   "execution_count": 4,
   "source": [
    "# for folder in vietnamese_data_subfolders:\n",
    "#     helper.process_image(folder=folder)"
   ],
   "outputs": [],
   "metadata": {}
  },
  {
   "cell_type": "code",
   "execution_count": 5,
   "source": [
    "train_dataset = \"original\"\n",
    "test_dataset = \"vietnamese\"\n",
    "training_type = \"top\"\n",
    "output_network_type = \"current\""
   ],
   "outputs": [],
   "metadata": {}
  },
  {
   "cell_type": "code",
   "execution_count": 6,
   "source": [
    "# vietnamese_test_data_path = os.path.join(Config.processed_data_path, str(test_dataset) + \"_test\")\n",
    "# vietnamese_test_data_paths = helper.get_subfolder_name(dir_name=vietnamese_test_data_path, allow_many=True)"
   ],
   "outputs": [],
   "metadata": {}
  },
  {
   "cell_type": "code",
   "execution_count": 7,
   "source": [
    "# export_path = os.path.join(Config.report_path, \"evaluate\", output_network_type, train_dataset, test_dataset)"
   ],
   "outputs": [],
   "metadata": {}
  },
  {
   "cell_type": "code",
   "execution_count": 8,
   "source": [
    "result = pd.DataFrame()\n",
    "# for data_path in vietnamese_test_data_paths:\n",
    "#     save_result_path = os.path.join(export_path, str(data_path).split(\"/\")[-1])\n",
    "#     model, _ = helper.get_trained_model(training_type=training_type, dataset=train_dataset, output_network_type=output_network_type)\n",
    "#     df = helper.predict_bmi(model=model, test_data_path=data_path, export_path=save_result_path)\n",
    "#     helper.plot_batch_images(batch_size=Config.batch_size, dataframe=df, export_path=save_result_path, starting_idx=0, columns=['bmi', 'predicted', 'error'])\n",
    "#     result = result.append(df, ignore_index=True)\n",
    "    \n",
    "\n",
    "# result = result.sort_values(by=['error'])"
   ],
   "outputs": [],
   "metadata": {}
  },
  {
   "cell_type": "code",
   "execution_count": 9,
   "source": [
    "# best_results = result.head(n=Config.batch_size)\n",
    "# worst_results = result.tail(n=Config.batch_size)"
   ],
   "outputs": [],
   "metadata": {}
  },
  {
   "cell_type": "code",
   "execution_count": 10,
   "source": [
    "# best_results.to_csv(os.path.join(export_path, f\"{output_network_type}_best_results.csv\"), index=False)\n",
    "# worst_results.to_csv(os.path.join(export_path, f\"{output_network_type}_worst_results.csv\"), index=False)\n",
    "# result.to_csv(os.path.join(export_path, f\"{output_network_type}_total_results.csv\"), index=False)"
   ],
   "outputs": [],
   "metadata": {}
  },
  {
   "cell_type": "code",
   "execution_count": 11,
   "source": [
    "print()\n",
    "# helper.plot_batch_images(batch_size=Config.batch_size, dataframe=best_results, starting_idx=0, columns=['bmi', 'predicted', 'error'], export_path=export_path)"
   ],
   "outputs": [],
   "metadata": {}
  },
  {
   "cell_type": "code",
   "execution_count": 12,
   "source": [
    "print()\n",
    "# helper.plot_batch_images(batch_size=Config.batch_size, dataframe=worst_results, starting_idx=0, columns=['bmi', 'predicted', 'error'], export_path=export_path)"
   ],
   "outputs": [],
   "metadata": {}
  },
  {
   "cell_type": "code",
   "execution_count": 13,
   "source": [
    "# result['predicted'].describe().to_json(path_or_buf=os.path.join(export_path, \"predicted_stat.json\"), indent=4)"
   ],
   "outputs": [],
   "metadata": {}
  },
  {
   "cell_type": "code",
   "execution_count": 14,
   "source": [
    "# result['error'].describe().to_json(path_or_buf=os.path.join(export_path, \"error_stat.json\"), indent=4)"
   ],
   "outputs": [],
   "metadata": {}
  }
 ],
 "metadata": {
  "orig_nbformat": 4,
  "language_info": {
   "name": "python"
  }
 },
 "nbformat": 4,
 "nbformat_minor": 2
}
