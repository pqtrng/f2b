{
 "cells": [
  {
   "cell_type": "code",
   "execution_count": 1,
   "metadata": {},
   "outputs": [],
   "source": [
    "# import matplotlib.pyplot as plt\n",
    "# from src.config import Config\n",
    "# from src import helper\n",
    "# import os\n",
    "# import pandas as pd\n",
    "# import seaborn as sns"
   ]
  },
  {
   "cell_type": "code",
   "execution_count": 2,
   "metadata": {},
   "outputs": [],
   "source": [
    "# %matplotlib inline\n",
    "# plt.style.use('ggplot')"
   ]
  },
  {
   "cell_type": "code",
   "execution_count": 3,
   "metadata": {},
   "outputs": [],
   "source": [
    "# vietnamese_raw_datapath = os.path.join(Config.external_data_path, \"CSDL\", \"Images\")\n",
    "# vietnamese_data_subfolders = helper.get_subfolder_name(dir_name=vietnamese_raw_datapath, allow_many=True)"
   ]
  },
  {
   "cell_type": "code",
   "execution_count": 4,
   "metadata": {},
   "outputs": [],
   "source": [
    "# raw_vietnamese_df = pd.DataFrame()\n",
    "# for folder in vietnamese_data_subfolders:\n",
    "#     df = helper.create_vietnamese_test_dataframe(folder=folder)\n",
    "#     raw_vietnamese_df = pd.concat([raw_vietnamese_df, df.drop(['path'], axis=1)], ignore_index=True)\n",
    "#     raw_vietnamese_df.sort_values(by=['subject'], inplace=True)"
   ]
  },
  {
   "cell_type": "code",
   "execution_count": 5,
   "metadata": {},
   "outputs": [],
   "source": [
    "# raw_vietnamese_df.bmi.describe()"
   ]
  },
  {
   "cell_type": "code",
   "execution_count": 6,
   "metadata": {},
   "outputs": [],
   "source": [
    "# raw_vietnamese_df.groupby(['subject']).mean()"
   ]
  },
  {
   "cell_type": "code",
   "execution_count": 7,
   "metadata": {},
   "outputs": [],
   "source": [
    "# uw_df, h_df, ow_df, ob_df = helper.split_bmi_class_df(raw_vietnamese_df, verbose=True)"
   ]
  },
  {
   "cell_type": "code",
   "execution_count": 8,
   "metadata": {},
   "outputs": [],
   "source": [
    "# plt.figure(figsize=(20, 10))\n",
    "# sns.displot(raw_vietnamese_df,\n",
    "#     # raw_vietnamese_df.groupby(['subject']).mean(), \n",
    "#     x='bmi', kind='kde', fill=True, height=5, aspect=10/5)\n",
    "# # plt.title('Distribution of BMI on the whole dataset', size=14)\n",
    "# plt.xlabel('BMI', size=14)\n",
    "# plt.ylabel('Frequency', size=14);\n",
    "# plt.savefig(os.path.join(Config.report_path, 'evaluate', 'current', 'original','vietnamese', 'vietnamese_total_dis.png'), transparent=True)"
   ]
  },
  {
   "cell_type": "code",
   "execution_count": 9,
   "metadata": {},
   "outputs": [],
   "source": [
    "# for folder in vietnamese_data_subfolders:\n",
    "#     helper.process_image(folder=folder)"
   ]
  },
  {
   "cell_type": "code",
   "execution_count": 10,
   "metadata": {},
   "outputs": [],
   "source": [
    "# train_dataset = \"original\"\n",
    "# test_dataset = \"vietnamese\"\n",
    "# training_type = \"top\"\n",
    "# output_network_type = \"current\""
   ]
  },
  {
   "cell_type": "code",
   "execution_count": 11,
   "metadata": {},
   "outputs": [],
   "source": [
    "# vietnamese_test_data_path = os.path.join(Config.processed_data_path, str(test_dataset) + \"_test\")\n",
    "# vietnamese_test_data_paths = helper.get_subfolder_name(dir_name=vietnamese_test_data_path, allow_many=True)"
   ]
  },
  {
   "cell_type": "code",
   "execution_count": 12,
   "metadata": {},
   "outputs": [],
   "source": [
    "# export_path = os.path.join(Config.report_path, \"evaluate\", output_network_type, train_dataset, test_dataset)"
   ]
  },
  {
   "cell_type": "code",
   "execution_count": 13,
   "metadata": {},
   "outputs": [],
   "source": [
    "# result = pd.DataFrame()\n",
    "# for data_path in vietnamese_test_data_paths:\n",
    "#     save_result_path = os.path.join(export_path, str(data_path).split(\"/\")[-1])\n",
    "#     model, _ = helper.get_trained_model(training_type=training_type, dataset=train_dataset, output_network_type=output_network_type)\n",
    "#     df = helper.predict_bmi(model=model, test_data_path=data_path, export_path=save_result_path)\n",
    "#     helper.plot_batch_images(dataframe=df, export_path=save_result_path, starting_idx=0, columns=['bmi', 'predicted', 'error'], name=\"result\", fig_width=17)\n",
    "#     result = result.append(df, ignore_index=True)"
   ]
  },
  {
   "cell_type": "code",
   "execution_count": 14,
   "metadata": {},
   "outputs": [],
   "source": [
    "# result = result.sort_values(by=['error'])\n",
    "# best_results = result.head(n=8)\n",
    "# worst_results = result.tail(n=8)"
   ]
  },
  {
   "cell_type": "code",
   "execution_count": 15,
   "metadata": {},
   "outputs": [],
   "source": [
    "# best_results.to_csv(os.path.join(export_path, f\"{output_network_type}_best_results.csv\"), index=False)\n",
    "# worst_results.to_csv(os.path.join(export_path, f\"{output_network_type}_worst_results.csv\"), index=False)\n",
    "# result.to_csv(os.path.join(export_path, f\"{output_network_type}_total_results.csv\"), index=False)"
   ]
  },
  {
   "cell_type": "code",
   "execution_count": 16,
   "metadata": {},
   "outputs": [],
   "source": [
    "# helper.plot_batch_images(dataframe=best_results, starting_idx=0, columns=['bmi', 'predicted', 'error'], export_path=export_path, name='vietnamese_8_best_result', fig_width=17)"
   ]
  },
  {
   "cell_type": "code",
   "execution_count": 17,
   "metadata": {},
   "outputs": [],
   "source": [
    "# helper.plot_batch_images(dataframe=worst_results, starting_idx=0, columns=['bmi', 'predicted', 'error'], export_path=export_path, name='vietnamese_8_worst_result', fig_width=17)"
   ]
  },
  {
   "cell_type": "code",
   "execution_count": 18,
   "metadata": {},
   "outputs": [],
   "source": [
    "# helper.plot_batch_images(dataframe=result.sample(n=8), starting_idx=0, columns=['bmi', 'predicted', 'error'], export_path=export_path, name='vietnamese_sample_result', fig_width=17)"
   ]
  },
  {
   "cell_type": "code",
   "execution_count": 19,
   "metadata": {},
   "outputs": [],
   "source": [
    "# print(result.groupby(['subject']).count().to_latex())"
   ]
  },
  {
   "cell_type": "code",
   "execution_count": 20,
   "metadata": {},
   "outputs": [],
   "source": [
    "# print(result.groupby(['subject']).mean().to_latex())"
   ]
  },
  {
   "cell_type": "code",
   "execution_count": 21,
   "metadata": {},
   "outputs": [],
   "source": [
    "# print(result.drop(['subject'], axis=1).describe().to_latex())"
   ]
  },
  {
   "cell_type": "code",
   "execution_count": 22,
   "metadata": {},
   "outputs": [],
   "source": [
    "# target = pd.Series(['Ground Truth' for _ in range(result.shape[0])], name='Target')\n",
    "# gt_df = pd.concat([result['bmi'], target], axis=1)\n",
    "# gt_df.describe()"
   ]
  },
  {
   "cell_type": "code",
   "execution_count": 23,
   "metadata": {},
   "outputs": [],
   "source": [
    "# target = pd.Series(['Predicted' for _ in range(result.shape[0])], name='Target')\n",
    "# pd_df = pd.concat([result['predicted'], target], axis=1)\n",
    "# pd_df.columns = ['bmi', 'Target']\n",
    "# pd_df.describe()"
   ]
  },
  {
   "cell_type": "code",
   "execution_count": 24,
   "metadata": {},
   "outputs": [],
   "source": [
    "# pd_gt_df = pd.concat([pd_df, gt_df])"
   ]
  },
  {
   "cell_type": "code",
   "execution_count": 25,
   "metadata": {},
   "outputs": [],
   "source": [
    "# sns.displot(pd_gt_df, x=\"bmi\", hue=\"Target\", kind=\"kde\", fill=True,  height=5, aspect=10/5)\n",
    "# plt.xlabel('BMI', size=14)\n",
    "# plt.ylabel('Frequency', size=14)\n",
    "# plt.savefig(os.path.join(Config.report_path, 'evaluate', 'current', 'original','vietnamese', 'vietnamese_predicted_vs_groundtruth_dis.png'), transparent=True)"
   ]
  },
  {
   "cell_type": "code",
   "execution_count": null,
   "metadata": {},
   "outputs": [],
   "source": []
  }
 ],
 "metadata": {
  "interpreter": {
   "hash": "5bd6b6ff6f3d9d56ae167b9bca645f3322043500149d8a8708dbadfbf8c4eb9f"
  },
  "kernelspec": {
   "display_name": "Python 3.8.10 64-bit ('f2b': conda)",
   "name": "python3"
  },
  "language_info": {
   "codemirror_mode": {
    "name": "ipython",
    "version": 3
   },
   "file_extension": ".py",
   "mimetype": "text/x-python",
   "name": "python",
   "nbconvert_exporter": "python",
   "pygments_lexer": "ipython3",
   "version": "3.8.10"
  },
  "orig_nbformat": 4
 },
 "nbformat": 4,
 "nbformat_minor": 2
}
